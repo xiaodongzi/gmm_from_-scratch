{
 "cells": [
  {
   "cell_type": "code",
   "execution_count": 2,
   "metadata": {},
   "outputs": [],
   "source": [
    "from numpy import hstack, ones, array, mat, tile, reshape, squeeze, eye, asmatrix\n",
    "from numpy.linalg import inv\n",
    "from pandas import read_csv, Series \n",
    "from scipy.linalg import kron,pinv\n",
    "from scipy.optimize import fmin_bfgs,fmin\n",
    "import numpy as np\n",
    "import statsmodels.api as sm\n",
    "import pandas as pd"
   ]
  },
  {
   "cell_type": "code",
   "execution_count": 3,
   "metadata": {},
   "outputs": [],
   "source": [
    "def iter_print(params):\n",
    "    \"\"\" callback for print\"\"\"\n",
    "    global iteration, lastValue, functionCount\n",
    "    iteration += 1\n",
    "    print('Func value: {0:}, Iteration: {1:}, Function Count: {2:}'.format(lastValue, iteration, functionCount))"
   ]
  },
  {
   "cell_type": "code",
   "execution_count": 15,
   "metadata": {},
   "outputs": [],
   "source": [
    "def gmm_objective(params, y, x, Winv, out=False):\n",
    "    \"\"\" 计算系数迭代的目标函数 （最小） \"\"\"\n",
    "    global lastValue, functionCount\n",
    "    T,N = y.shape\n",
    "    T,K = x.shape\n",
    "    beta = squeeze(array(params))\n",
    "    beta = reshape(beta,(N,K))\n",
    "    y_pred = x @ beta.T\n",
    "    e = y - y_pred # 残差\n",
    "    e_ = kron(e,ones((1,K))) # 将残差复制K列\n",
    "    x_ = tile(x,N)  # 将残差复制N列\n",
    "    moments = e_ * x_ # 计算矩条件  Z*e\n",
    "    \n",
    "    avgMoment = moments.mean(axis=0)    \n",
    "    J =  mat(avgMoment) * mat(Winv) * mat(avgMoment).T\n",
    "    \n",
    "    J = J[0,0]\n",
    "    lastValue = J\n",
    "    functionCount += 1\n",
    "    if not out:\n",
    "        return J\n",
    "    else:\n",
    "        return J, moments"
   ]
  },
  {
   "cell_type": "code",
   "execution_count": 16,
   "metadata": {},
   "outputs": [],
   "source": [
    "def gmm_G(params, y, x,Winv):\n",
    "    \"\"\" 计算 gmm_objective 对系数的导数  \"\"\"\n",
    "    T,N = y.shape\n",
    "    T,K = x.shape\n",
    "    d = np.zeros((N*K,N*K))\n",
    "    ffp = (x.T @ x) / T\n",
    "    d[:(N*K),:(N*K)]=kron(eye(N),ffp)    \n",
    "    return d"
   ]
  },
  {
   "cell_type": "code",
   "execution_count": 8,
   "metadata": {},
   "outputs": [],
   "source": [
    "# 读取数据\n",
    "path= 'auto.csv'\n",
    "data= pd.read_csv(path)\n",
    "data['constant']=1 # 增加常数项\n",
    "data = data[['mpg','gear_ratio','turn','constant']].copy()\n",
    "x= data[['gear_ratio','turn','constant']].copy().values\n",
    "y= data[['mpg']].values"
   ]
  },
  {
   "cell_type": "code",
   "execution_count": 20,
   "metadata": {},
   "outputs": [
    {
     "name": "stdout",
     "output_type": "stream",
     "text": [
      "Func value: 35412411.70559802, Iteration: 1, Function Count: 10\n",
      "Func value: 2553830.3099367493, Iteration: 2, Function Count: 15\n",
      "Func value: 873048.3384790673, Iteration: 3, Function Count: 25\n",
      "Func value: 180.33067937863746, Iteration: 4, Function Count: 30\n",
      "Func value: 0.7332242554405092, Iteration: 5, Function Count: 35\n",
      "Func value: 0.07773717923544206, Iteration: 6, Function Count: 60\n",
      "Func value: 0.022250473701542057, Iteration: 7, Function Count: 70\n",
      "Func value: 0.02148083502644489, Iteration: 8, Function Count: 80\n",
      "Warning: Desired error not necessarily achieved due to precision loss.\n",
      "         Current function value: 0.021481\n",
      "         Iterations: 8\n",
      "         Function evaluations: 537\n",
      "         Gradient evaluations: 105\n"
     ]
    },
    {
     "data": {
      "text/plain": [
       "array([ 2.2052607 , -0.82234034, 47.26830392])"
      ]
     },
     "execution_count": 20,
     "metadata": {},
     "output_type": "execute_result"
    }
   ],
   "source": [
    "# 第一次迭代过程\n",
    "init_beta= [1,1,1]  # 初始系数\n",
    "startingVals = np.array(init_beta)  \n",
    "Winv = np.eye(startingVals.shape[0]) # 初始权重矩阵\n",
    "args = (y, x, Winv)\n",
    "\n",
    "iteration = 0\n",
    "lastValue = 0\n",
    "functionCount = 0\n",
    "\n",
    "step1opt = fmin_bfgs(gmm_objective, startingVals, args=args, callback=iter_print)\n",
    "step1opt\n"
   ]
  },
  {
   "cell_type": "code",
   "execution_count": 21,
   "metadata": {},
   "outputs": [
    {
     "name": "stdout",
     "output_type": "stream",
     "text": [
      "Func value: 0.4930986376357178, Iteration: 1, Function Count: 15\n",
      "Func value: 0.4586593214293435, Iteration: 2, Function Count: 25\n",
      "Func value: 0.3419069060672252, Iteration: 3, Function Count: 35\n",
      "Func value: 0.1467328348439741, Iteration: 4, Function Count: 40\n",
      "Func value: 1.947218670663357e-10, Iteration: 5, Function Count: 45\n",
      "Optimization terminated successfully.\n",
      "         Current function value: 0.000000\n",
      "         Iterations: 5\n",
      "         Function evaluations: 45\n",
      "         Gradient evaluations: 9\n"
     ]
    },
    {
     "data": {
      "text/plain": [
       "array([ 3.03286885, -0.73305195, 41.2181289 ])"
      ]
     },
     "execution_count": 21,
     "metadata": {},
     "output_type": "execute_result"
    }
   ],
   "source": [
    "# 第一次迭代结果\n",
    "out = gmm_objective(step1opt, y, x, Winv, out=True) \n",
    "T = y.shape[0]\n",
    "out = out[1]-out[1].mean() # 得到去中心化的矩平均\n",
    "S = out.T @ out/T\n",
    "Winv2= np.linalg.inv(S)\n",
    "args = (y, x, Winv2)\n",
    "\n",
    "iteration = 0\n",
    "functionCount = 0\n",
    "\n",
    "step2opt = fmin_bfgs(gmm_objective, step1opt, args=args, callback=iter_print)\n",
    "beta = step2opt\n",
    "beta"
   ]
  },
  {
   "cell_type": "code",
   "execution_count": 22,
   "metadata": {},
   "outputs": [
    {
     "data": {
      "text/plain": [
       "array([1.50166502, 0.11797213, 8.39674751])"
      ]
     },
     "execution_count": 22,
     "metadata": {},
     "output_type": "execute_result"
    }
   ],
   "source": [
    "##-------- 计算标准误\n",
    "out = gmm_objective(step2opt, y, x, Winv2, out=True) \n",
    "# 计算倒数d\n",
    "G = gmm_G(step2opt, y, x,Winv2) \n",
    "# 矩条件\n",
    "mom = out[1]\n",
    "# 计算 矩协方差矩阵\n",
    "out= out[1]-out[1].mean() \n",
    "S_= out.T @ out / T\n",
    "#  计算系数的协方差矩阵\n",
    "vcv = pinv(G @ pinv(S_) @ G.T)/T\n",
    "# 提取对角线的方差\n",
    "diag_v= np.diag(vcv)\n",
    "# 计算标准误\n",
    "np.sqrt(diag_v) "
   ]
  },
  {
   "cell_type": "code",
   "execution_count": null,
   "metadata": {},
   "outputs": [],
   "source": []
  }
 ],
 "metadata": {
  "kernelspec": {
   "display_name": "Python 3",
   "language": "python",
   "name": "python3"
  },
  "language_info": {
   "codemirror_mode": {
    "name": "ipython",
    "version": 3
   },
   "file_extension": ".py",
   "mimetype": "text/x-python",
   "name": "python",
   "nbconvert_exporter": "python",
   "pygments_lexer": "ipython3",
   "version": "3.7.1"
  }
 },
 "nbformat": 4,
 "nbformat_minor": 2
}
