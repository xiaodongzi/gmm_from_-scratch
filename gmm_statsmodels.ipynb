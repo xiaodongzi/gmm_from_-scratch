{
 "cells": [
  {
   "cell_type": "code",
   "execution_count": 1,
   "metadata": {},
   "outputs": [],
   "source": [
    "# 源码分析\n",
    "from IPython.core.interactiveshell import InteractiveShell\n",
    "InteractiveShell.ast_node_interactivity='all'"
   ]
  },
  {
   "cell_type": "code",
   "execution_count": 2,
   "metadata": {},
   "outputs": [],
   "source": [
    "from statsmodels.sandbox.regression.gmm import LinearIVGMM,NonlinearIVGMM\n",
    "import numpy as np\n",
    "import pandas as pd"
   ]
  },
  {
   "cell_type": "code",
   "execution_count": 3,
   "metadata": {},
   "outputs": [],
   "source": [
    "path= 'auto.csv'\n",
    "data= pd.read_csv(path)\n",
    "data['constant']=1\n",
    "exdog_df = data[['gear_ratio','turn','constant']].values\n",
    "endog_df =  data[['mpg']].values\n",
    "instrument = data[['gear_ratio','turn','constant']].values"
   ]
  },
  {
   "cell_type": "code",
   "execution_count": 4,
   "metadata": {},
   "outputs": [
    {
     "name": "stdout",
     "output_type": "stream",
     "text": [
      "                             LinearIVGMM Results                              \n",
      "==============================================================================\n",
      "Dep. Variable:                      y   Hansen J:                    6.338e-23\n",
      "Model:                    LinearIVGMM   Prob (Hansen J):                   nan\n",
      "Method:                           GMM                                         \n",
      "Date:                Wed, 21 Apr 2021                                         \n",
      "Time:                        22:34:30                                         \n",
      "No. Observations:                  74                                         \n",
      "==============================================================================\n",
      "                 coef    std err          z      P>|z|      [0.025      0.975]\n",
      "------------------------------------------------------------------------------\n",
      "x1             3.0329      1.502      2.020      0.043       0.090       5.976\n",
      "x2            -0.7331      0.118     -6.214      0.000      -0.964      -0.502\n",
      "const         41.2180      8.397      4.909      0.000      24.761      57.675\n",
      "==============================================================================\n"
     ]
    }
   ],
   "source": [
    "model = LinearIVGMM(endog=endog_df,exog=exdog_df,instrument=instrument)\n",
    "res1 = model.fit([1,-1,1], maxiter=0) \n",
    "print(res1.summary())"
   ]
  },
  {
   "cell_type": "code",
   "execution_count": 5,
   "metadata": {},
   "outputs": [],
   "source": [
    "# 非线性用法 "
   ]
  },
  {
   "cell_type": "code",
   "execution_count": 6,
   "metadata": {},
   "outputs": [],
   "source": [
    "def moments_1(params, exog):\n",
    "    beta0,beta1,beta2 = params\n",
    "    gear,turn,c = exog.T  # unwrap iterable (ndarray)\n",
    "    # moment condition without instrument    \n",
    "    err = 1 -  beta0 * gear - beta1 * turn -beta2\n",
    "    return -err"
   ]
  },
  {
   "cell_type": "code",
   "execution_count": 7,
   "metadata": {},
   "outputs": [],
   "source": [
    "endog1 = np.zeros(exdog_df.shape[0])  \n",
    "mod1 = NonlinearIVGMM(endog=endog_df,exog=exdog_df,instrument=instrument,func=moments_1)"
   ]
  },
  {
   "cell_type": "code",
   "execution_count": 8,
   "metadata": {},
   "outputs": [
    {
     "name": "stdout",
     "output_type": "stream",
     "text": [
      "Warning: Desired error not necessarily achieved due to precision loss.\n",
      "         Current function value: 0.000288\n",
      "         Iterations: 5\n",
      "         Function evaluations: 582\n",
      "         Gradient evaluations: 114\n",
      "Optimization terminated successfully.\n",
      "         Current function value: 0.000000\n",
      "         Iterations: 18\n",
      "         Function evaluations: 110\n",
      "         Gradient evaluations: 22\n"
     ]
    }
   ],
   "source": [
    "w0inv =np.eye(3)\n",
    "res1 = mod1.fit([0,1,-1], maxiter=2, inv_weights=w0inv)  "
   ]
  },
  {
   "cell_type": "code",
   "execution_count": 9,
   "metadata": {},
   "outputs": [
    {
     "name": "stdout",
     "output_type": "stream",
     "text": [
      "                            NonlinearIVGMM Results                            \n",
      "==============================================================================\n",
      "Dep. Variable:                      y   Hansen J:                    7.540e-09\n",
      "Model:                 NonlinearIVGMM   Prob (Hansen J):                   nan\n",
      "Method:                           GMM                                         \n",
      "Date:                Wed, 21 Apr 2021                                         \n",
      "Time:                        22:34:30                                         \n",
      "No. Observations:                  74                                         \n",
      "==============================================================================\n",
      "                 coef    std err          z      P>|z|      [0.025      0.975]\n",
      "------------------------------------------------------------------------------\n",
      "gear           3.0330      1.502      2.020      0.043       0.090       5.976\n",
      "turn          -0.7331      0.118     -6.214      0.000      -0.964      -0.502\n",
      "c             42.2179      8.397      5.028      0.000      25.761      58.675\n",
      "==============================================================================\n"
     ]
    }
   ],
   "source": [
    "print(res1.summary(yname='y', xname=['gear', 'turn','c']))"
   ]
  },
  {
   "cell_type": "code",
   "execution_count": null,
   "metadata": {},
   "outputs": [],
   "source": []
  }
 ],
 "metadata": {
  "kernelspec": {
   "display_name": "Python 3",
   "language": "python",
   "name": "python3"
  },
  "language_info": {
   "codemirror_mode": {
    "name": "ipython",
    "version": 3
   },
   "file_extension": ".py",
   "mimetype": "text/x-python",
   "name": "python",
   "nbconvert_exporter": "python",
   "pygments_lexer": "ipython3",
   "version": "3.7.1"
  }
 },
 "nbformat": 4,
 "nbformat_minor": 2
}
